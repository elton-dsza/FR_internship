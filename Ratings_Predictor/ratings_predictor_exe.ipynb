{
 "cells": [
  {
   "cell_type": "code",
   "execution_count": 1,
   "id": "3af2b66a-ed58-43a2-9181-fbe9466ea2cd",
   "metadata": {},
   "outputs": [],
   "source": [
    "import pandas as pd\n",
    "import numpy as np\n",
    "import json\n",
    "import matplotlib.pyplot as plt\n",
    "%matplotlib inline\n",
    "import seaborn as sns\n",
    "from scipy import stats\n",
    "from sklearn.preprocessing import LabelEncoder\n",
    "from sklearn.preprocessing import PowerTransformer\n",
    "from sklearn.model_selection import train_test_split\n",
    "\n",
    "\n",
    "# filtering warnings\n",
    "import warnings\n",
    "warnings.filterwarnings('ignore')"
   ]
  },
  {
   "cell_type": "code",
   "execution_count": 2,
   "id": "18e910b3-fee7-4596-89be-a222cebaff89",
   "metadata": {},
   "outputs": [],
   "source": [
    "pd.set_option('display.max_rows', 500)\n",
    "pd.set_option('display.max_columns', 500)"
   ]
  },
  {
   "cell_type": "code",
   "execution_count": 3,
   "id": "381b6b62-fc08-4697-809c-73ef9debecaa",
   "metadata": {},
   "outputs": [],
   "source": [
    "df = pd.read_json('Electronics.json',lines=True, nrows = 80000)"
   ]
  },
  {
   "cell_type": "code",
   "execution_count": 4,
   "id": "89a7221f-c6c9-45f7-8651-4400a8470d8f",
   "metadata": {},
   "outputs": [
    {
     "data": {
      "text/html": [
       "<div>\n",
       "<style scoped>\n",
       "    .dataframe tbody tr th:only-of-type {\n",
       "        vertical-align: middle;\n",
       "    }\n",
       "\n",
       "    .dataframe tbody tr th {\n",
       "        vertical-align: top;\n",
       "    }\n",
       "\n",
       "    .dataframe thead th {\n",
       "        text-align: right;\n",
       "    }\n",
       "</style>\n",
       "<table border=\"1\" class=\"dataframe\">\n",
       "  <thead>\n",
       "    <tr style=\"text-align: right;\">\n",
       "      <th></th>\n",
       "      <th>overall</th>\n",
       "      <th>verified</th>\n",
       "      <th>reviewTime</th>\n",
       "      <th>reviewerID</th>\n",
       "      <th>asin</th>\n",
       "      <th>style</th>\n",
       "      <th>reviewerName</th>\n",
       "      <th>reviewText</th>\n",
       "      <th>summary</th>\n",
       "      <th>unixReviewTime</th>\n",
       "      <th>vote</th>\n",
       "      <th>image</th>\n",
       "    </tr>\n",
       "  </thead>\n",
       "  <tbody>\n",
       "    <tr>\n",
       "      <th>0</th>\n",
       "      <td>5</td>\n",
       "      <td>True</td>\n",
       "      <td>07 17, 2002</td>\n",
       "      <td>A1N070NS9CJQ2I</td>\n",
       "      <td>0060009810</td>\n",
       "      <td>{'Format:': ' Hardcover'}</td>\n",
       "      <td>Teri Adams</td>\n",
       "      <td>This was the first time I read Garcia-Aguilera...</td>\n",
       "      <td>Hit The Spot!</td>\n",
       "      <td>1026864000</td>\n",
       "      <td>NaN</td>\n",
       "      <td>NaN</td>\n",
       "    </tr>\n",
       "    <tr>\n",
       "      <th>1</th>\n",
       "      <td>5</td>\n",
       "      <td>False</td>\n",
       "      <td>07 6, 2002</td>\n",
       "      <td>A3P0KRKOBQK1KN</td>\n",
       "      <td>0060009810</td>\n",
       "      <td>{'Format:': ' Hardcover'}</td>\n",
       "      <td>Willa C.</td>\n",
       "      <td>As with all of Ms. Garcia-Aguilera's books, I ...</td>\n",
       "      <td>one hot summer is HOT HOT HOT!</td>\n",
       "      <td>1025913600</td>\n",
       "      <td>NaN</td>\n",
       "      <td>NaN</td>\n",
       "    </tr>\n",
       "    <tr>\n",
       "      <th>2</th>\n",
       "      <td>5</td>\n",
       "      <td>False</td>\n",
       "      <td>07 3, 2002</td>\n",
       "      <td>A192HO2ICJ75VU</td>\n",
       "      <td>0060009810</td>\n",
       "      <td>{'Format:': ' Hardcover'}</td>\n",
       "      <td>Kit</td>\n",
       "      <td>I've not read any of Ms Aguilera's works befor...</td>\n",
       "      <td>One Hot Summer</td>\n",
       "      <td>1025654400</td>\n",
       "      <td>2</td>\n",
       "      <td>NaN</td>\n",
       "    </tr>\n",
       "    <tr>\n",
       "      <th>3</th>\n",
       "      <td>4</td>\n",
       "      <td>False</td>\n",
       "      <td>06 30, 2002</td>\n",
       "      <td>A2T278FKFL3BLT</td>\n",
       "      <td>0060009810</td>\n",
       "      <td>{'Format:': ' Hardcover'}</td>\n",
       "      <td>Andres</td>\n",
       "      <td>This romance novel is right up there with the ...</td>\n",
       "      <td>I love this book!</td>\n",
       "      <td>1025395200</td>\n",
       "      <td>3</td>\n",
       "      <td>NaN</td>\n",
       "    </tr>\n",
       "    <tr>\n",
       "      <th>4</th>\n",
       "      <td>5</td>\n",
       "      <td>False</td>\n",
       "      <td>06 28, 2002</td>\n",
       "      <td>A2ZUXVTW8RXBXW</td>\n",
       "      <td>0060009810</td>\n",
       "      <td>{'Format:': ' Hardcover'}</td>\n",
       "      <td>John</td>\n",
       "      <td>Carolina Garcia Aguilera has done it again.  S...</td>\n",
       "      <td>One Hot Book</td>\n",
       "      <td>1025222400</td>\n",
       "      <td>NaN</td>\n",
       "      <td>NaN</td>\n",
       "    </tr>\n",
       "    <tr>\n",
       "      <th>...</th>\n",
       "      <td>...</td>\n",
       "      <td>...</td>\n",
       "      <td>...</td>\n",
       "      <td>...</td>\n",
       "      <td>...</td>\n",
       "      <td>...</td>\n",
       "      <td>...</td>\n",
       "      <td>...</td>\n",
       "      <td>...</td>\n",
       "      <td>...</td>\n",
       "      <td>...</td>\n",
       "      <td>...</td>\n",
       "    </tr>\n",
       "    <tr>\n",
       "      <th>79995</th>\n",
       "      <td>5</td>\n",
       "      <td>True</td>\n",
       "      <td>01 2, 2018</td>\n",
       "      <td>A2J3OA29JDC3DV</td>\n",
       "      <td>B00004VXNF</td>\n",
       "      <td>{'Style:': ' PRO520XL'}</td>\n",
       "      <td>Amazon Customer</td>\n",
       "      <td>Best cb for the buck ever. Plugged This bad bo...</td>\n",
       "      <td>Best cb for the buck ever</td>\n",
       "      <td>1514851200</td>\n",
       "      <td>NaN</td>\n",
       "      <td>NaN</td>\n",
       "    </tr>\n",
       "    <tr>\n",
       "      <th>79996</th>\n",
       "      <td>5</td>\n",
       "      <td>True</td>\n",
       "      <td>01 1, 2018</td>\n",
       "      <td>A284SZ58HC8Y11</td>\n",
       "      <td>B00004VXNF</td>\n",
       "      <td>{'Style:': ' PRO520XL'}</td>\n",
       "      <td>JoshH</td>\n",
       "      <td>Very easy to setup and sounds great.</td>\n",
       "      <td>Five Stars</td>\n",
       "      <td>1514764800</td>\n",
       "      <td>NaN</td>\n",
       "      <td>NaN</td>\n",
       "    </tr>\n",
       "    <tr>\n",
       "      <th>79997</th>\n",
       "      <td>4</td>\n",
       "      <td>True</td>\n",
       "      <td>12 30, 2017</td>\n",
       "      <td>A1GI2YRCYO5GSK</td>\n",
       "      <td>B00004VXNF</td>\n",
       "      <td>{'Style:': ' PRO505XL'}</td>\n",
       "      <td>Fabron</td>\n",
       "      <td>Bought this for my driver in my Semi-Truck. Go...</td>\n",
       "      <td>Does the job. Nothing fancy.</td>\n",
       "      <td>1514592000</td>\n",
       "      <td>NaN</td>\n",
       "      <td>NaN</td>\n",
       "    </tr>\n",
       "    <tr>\n",
       "      <th>79998</th>\n",
       "      <td>4</td>\n",
       "      <td>True</td>\n",
       "      <td>12 27, 2017</td>\n",
       "      <td>A3UH74LZN3PK7G</td>\n",
       "      <td>B00004VXNF</td>\n",
       "      <td>{'Style:': ' PRO520XL'}</td>\n",
       "      <td>Amazon Prime Member</td>\n",
       "      <td>Works fine.</td>\n",
       "      <td>Good basic CB for the money.</td>\n",
       "      <td>1514332800</td>\n",
       "      <td>NaN</td>\n",
       "      <td>NaN</td>\n",
       "    </tr>\n",
       "    <tr>\n",
       "      <th>79999</th>\n",
       "      <td>5</td>\n",
       "      <td>True</td>\n",
       "      <td>12 27, 2017</td>\n",
       "      <td>A2F1QLJ6ZTKP5W</td>\n",
       "      <td>B00004VXNF</td>\n",
       "      <td>{'Style:': ' PRO505XL'}</td>\n",
       "      <td>Amazon Customer</td>\n",
       "      <td>works well.</td>\n",
       "      <td>Five Stars</td>\n",
       "      <td>1514332800</td>\n",
       "      <td>NaN</td>\n",
       "      <td>NaN</td>\n",
       "    </tr>\n",
       "  </tbody>\n",
       "</table>\n",
       "<p>80000 rows × 12 columns</p>\n",
       "</div>"
      ],
      "text/plain": [
       "       overall  verified   reviewTime      reviewerID        asin  \\\n",
       "0            5      True  07 17, 2002  A1N070NS9CJQ2I  0060009810   \n",
       "1            5     False   07 6, 2002  A3P0KRKOBQK1KN  0060009810   \n",
       "2            5     False   07 3, 2002  A192HO2ICJ75VU  0060009810   \n",
       "3            4     False  06 30, 2002  A2T278FKFL3BLT  0060009810   \n",
       "4            5     False  06 28, 2002  A2ZUXVTW8RXBXW  0060009810   \n",
       "...        ...       ...          ...             ...         ...   \n",
       "79995        5      True   01 2, 2018  A2J3OA29JDC3DV  B00004VXNF   \n",
       "79996        5      True   01 1, 2018  A284SZ58HC8Y11  B00004VXNF   \n",
       "79997        4      True  12 30, 2017  A1GI2YRCYO5GSK  B00004VXNF   \n",
       "79998        4      True  12 27, 2017  A3UH74LZN3PK7G  B00004VXNF   \n",
       "79999        5      True  12 27, 2017  A2F1QLJ6ZTKP5W  B00004VXNF   \n",
       "\n",
       "                           style         reviewerName  \\\n",
       "0      {'Format:': ' Hardcover'}           Teri Adams   \n",
       "1      {'Format:': ' Hardcover'}             Willa C.   \n",
       "2      {'Format:': ' Hardcover'}                  Kit   \n",
       "3      {'Format:': ' Hardcover'}               Andres   \n",
       "4      {'Format:': ' Hardcover'}                 John   \n",
       "...                          ...                  ...   \n",
       "79995    {'Style:': ' PRO520XL'}      Amazon Customer   \n",
       "79996    {'Style:': ' PRO520XL'}                JoshH   \n",
       "79997    {'Style:': ' PRO505XL'}               Fabron   \n",
       "79998    {'Style:': ' PRO520XL'}  Amazon Prime Member   \n",
       "79999    {'Style:': ' PRO505XL'}      Amazon Customer   \n",
       "\n",
       "                                              reviewText  \\\n",
       "0      This was the first time I read Garcia-Aguilera...   \n",
       "1      As with all of Ms. Garcia-Aguilera's books, I ...   \n",
       "2      I've not read any of Ms Aguilera's works befor...   \n",
       "3      This romance novel is right up there with the ...   \n",
       "4      Carolina Garcia Aguilera has done it again.  S...   \n",
       "...                                                  ...   \n",
       "79995  Best cb for the buck ever. Plugged This bad bo...   \n",
       "79996               Very easy to setup and sounds great.   \n",
       "79997  Bought this for my driver in my Semi-Truck. Go...   \n",
       "79998                                        Works fine.   \n",
       "79999                                        works well.   \n",
       "\n",
       "                              summary  unixReviewTime vote image  \n",
       "0                       Hit The Spot!      1026864000  NaN   NaN  \n",
       "1      one hot summer is HOT HOT HOT!      1025913600  NaN   NaN  \n",
       "2                      One Hot Summer      1025654400    2   NaN  \n",
       "3                   I love this book!      1025395200    3   NaN  \n",
       "4                        One Hot Book      1025222400  NaN   NaN  \n",
       "...                               ...             ...  ...   ...  \n",
       "79995       Best cb for the buck ever      1514851200  NaN   NaN  \n",
       "79996                      Five Stars      1514764800  NaN   NaN  \n",
       "79997    Does the job. Nothing fancy.      1514592000  NaN   NaN  \n",
       "79998    Good basic CB for the money.      1514332800  NaN   NaN  \n",
       "79999                      Five Stars      1514332800  NaN   NaN  \n",
       "\n",
       "[80000 rows x 12 columns]"
      ]
     },
     "execution_count": 4,
     "metadata": {},
     "output_type": "execute_result"
    }
   ],
   "source": [
    "df"
   ]
  },
  {
   "cell_type": "code",
   "execution_count": 5,
   "id": "6c09d8a6-3732-410e-b66a-93b6901bf8d0",
   "metadata": {},
   "outputs": [],
   "source": [
    "for i in range(0,len(df)):\n",
    "    df[['year']] = df.reviewTime[i][-4:]"
   ]
  },
  {
   "cell_type": "code",
   "execution_count": 6,
   "id": "c6f77778-63f2-401b-8d88-2bbaaea02398",
   "metadata": {},
   "outputs": [],
   "source": [
    "df.drop(columns = ['style','verified','unixReviewTime','asin','image','reviewTime'],inplace=True)"
   ]
  },
  {
   "cell_type": "code",
   "execution_count": 7,
   "id": "3f704002-68e7-4d43-8028-a1d5923bcec8",
   "metadata": {},
   "outputs": [
    {
     "data": {
      "text/html": [
       "<div>\n",
       "<style scoped>\n",
       "    .dataframe tbody tr th:only-of-type {\n",
       "        vertical-align: middle;\n",
       "    }\n",
       "\n",
       "    .dataframe tbody tr th {\n",
       "        vertical-align: top;\n",
       "    }\n",
       "\n",
       "    .dataframe thead th {\n",
       "        text-align: right;\n",
       "    }\n",
       "</style>\n",
       "<table border=\"1\" class=\"dataframe\">\n",
       "  <thead>\n",
       "    <tr style=\"text-align: right;\">\n",
       "      <th></th>\n",
       "      <th>overall</th>\n",
       "      <th>reviewerID</th>\n",
       "      <th>reviewerName</th>\n",
       "      <th>reviewText</th>\n",
       "      <th>summary</th>\n",
       "      <th>vote</th>\n",
       "      <th>year</th>\n",
       "    </tr>\n",
       "  </thead>\n",
       "  <tbody>\n",
       "    <tr>\n",
       "      <th>0</th>\n",
       "      <td>5</td>\n",
       "      <td>A1N070NS9CJQ2I</td>\n",
       "      <td>Teri Adams</td>\n",
       "      <td>This was the first time I read Garcia-Aguilera...</td>\n",
       "      <td>Hit The Spot!</td>\n",
       "      <td>NaN</td>\n",
       "      <td>2017</td>\n",
       "    </tr>\n",
       "    <tr>\n",
       "      <th>1</th>\n",
       "      <td>5</td>\n",
       "      <td>A3P0KRKOBQK1KN</td>\n",
       "      <td>Willa C.</td>\n",
       "      <td>As with all of Ms. Garcia-Aguilera's books, I ...</td>\n",
       "      <td>one hot summer is HOT HOT HOT!</td>\n",
       "      <td>NaN</td>\n",
       "      <td>2017</td>\n",
       "    </tr>\n",
       "    <tr>\n",
       "      <th>2</th>\n",
       "      <td>5</td>\n",
       "      <td>A192HO2ICJ75VU</td>\n",
       "      <td>Kit</td>\n",
       "      <td>I've not read any of Ms Aguilera's works befor...</td>\n",
       "      <td>One Hot Summer</td>\n",
       "      <td>2</td>\n",
       "      <td>2017</td>\n",
       "    </tr>\n",
       "    <tr>\n",
       "      <th>3</th>\n",
       "      <td>4</td>\n",
       "      <td>A2T278FKFL3BLT</td>\n",
       "      <td>Andres</td>\n",
       "      <td>This romance novel is right up there with the ...</td>\n",
       "      <td>I love this book!</td>\n",
       "      <td>3</td>\n",
       "      <td>2017</td>\n",
       "    </tr>\n",
       "    <tr>\n",
       "      <th>4</th>\n",
       "      <td>5</td>\n",
       "      <td>A2ZUXVTW8RXBXW</td>\n",
       "      <td>John</td>\n",
       "      <td>Carolina Garcia Aguilera has done it again.  S...</td>\n",
       "      <td>One Hot Book</td>\n",
       "      <td>NaN</td>\n",
       "      <td>2017</td>\n",
       "    </tr>\n",
       "    <tr>\n",
       "      <th>...</th>\n",
       "      <td>...</td>\n",
       "      <td>...</td>\n",
       "      <td>...</td>\n",
       "      <td>...</td>\n",
       "      <td>...</td>\n",
       "      <td>...</td>\n",
       "      <td>...</td>\n",
       "    </tr>\n",
       "    <tr>\n",
       "      <th>79995</th>\n",
       "      <td>5</td>\n",
       "      <td>A2J3OA29JDC3DV</td>\n",
       "      <td>Amazon Customer</td>\n",
       "      <td>Best cb for the buck ever. Plugged This bad bo...</td>\n",
       "      <td>Best cb for the buck ever</td>\n",
       "      <td>NaN</td>\n",
       "      <td>2017</td>\n",
       "    </tr>\n",
       "    <tr>\n",
       "      <th>79996</th>\n",
       "      <td>5</td>\n",
       "      <td>A284SZ58HC8Y11</td>\n",
       "      <td>JoshH</td>\n",
       "      <td>Very easy to setup and sounds great.</td>\n",
       "      <td>Five Stars</td>\n",
       "      <td>NaN</td>\n",
       "      <td>2017</td>\n",
       "    </tr>\n",
       "    <tr>\n",
       "      <th>79997</th>\n",
       "      <td>4</td>\n",
       "      <td>A1GI2YRCYO5GSK</td>\n",
       "      <td>Fabron</td>\n",
       "      <td>Bought this for my driver in my Semi-Truck. Go...</td>\n",
       "      <td>Does the job. Nothing fancy.</td>\n",
       "      <td>NaN</td>\n",
       "      <td>2017</td>\n",
       "    </tr>\n",
       "    <tr>\n",
       "      <th>79998</th>\n",
       "      <td>4</td>\n",
       "      <td>A3UH74LZN3PK7G</td>\n",
       "      <td>Amazon Prime Member</td>\n",
       "      <td>Works fine.</td>\n",
       "      <td>Good basic CB for the money.</td>\n",
       "      <td>NaN</td>\n",
       "      <td>2017</td>\n",
       "    </tr>\n",
       "    <tr>\n",
       "      <th>79999</th>\n",
       "      <td>5</td>\n",
       "      <td>A2F1QLJ6ZTKP5W</td>\n",
       "      <td>Amazon Customer</td>\n",
       "      <td>works well.</td>\n",
       "      <td>Five Stars</td>\n",
       "      <td>NaN</td>\n",
       "      <td>2017</td>\n",
       "    </tr>\n",
       "  </tbody>\n",
       "</table>\n",
       "<p>80000 rows × 7 columns</p>\n",
       "</div>"
      ],
      "text/plain": [
       "       overall      reviewerID         reviewerName  \\\n",
       "0            5  A1N070NS9CJQ2I           Teri Adams   \n",
       "1            5  A3P0KRKOBQK1KN             Willa C.   \n",
       "2            5  A192HO2ICJ75VU                  Kit   \n",
       "3            4  A2T278FKFL3BLT               Andres   \n",
       "4            5  A2ZUXVTW8RXBXW                 John   \n",
       "...        ...             ...                  ...   \n",
       "79995        5  A2J3OA29JDC3DV      Amazon Customer   \n",
       "79996        5  A284SZ58HC8Y11                JoshH   \n",
       "79997        4  A1GI2YRCYO5GSK               Fabron   \n",
       "79998        4  A3UH74LZN3PK7G  Amazon Prime Member   \n",
       "79999        5  A2F1QLJ6ZTKP5W      Amazon Customer   \n",
       "\n",
       "                                              reviewText  \\\n",
       "0      This was the first time I read Garcia-Aguilera...   \n",
       "1      As with all of Ms. Garcia-Aguilera's books, I ...   \n",
       "2      I've not read any of Ms Aguilera's works befor...   \n",
       "3      This romance novel is right up there with the ...   \n",
       "4      Carolina Garcia Aguilera has done it again.  S...   \n",
       "...                                                  ...   \n",
       "79995  Best cb for the buck ever. Plugged This bad bo...   \n",
       "79996               Very easy to setup and sounds great.   \n",
       "79997  Bought this for my driver in my Semi-Truck. Go...   \n",
       "79998                                        Works fine.   \n",
       "79999                                        works well.   \n",
       "\n",
       "                              summary vote  year  \n",
       "0                       Hit The Spot!  NaN  2017  \n",
       "1      one hot summer is HOT HOT HOT!  NaN  2017  \n",
       "2                      One Hot Summer    2  2017  \n",
       "3                   I love this book!    3  2017  \n",
       "4                        One Hot Book  NaN  2017  \n",
       "...                               ...  ...   ...  \n",
       "79995       Best cb for the buck ever  NaN  2017  \n",
       "79996                      Five Stars  NaN  2017  \n",
       "79997    Does the job. Nothing fancy.  NaN  2017  \n",
       "79998    Good basic CB for the money.  NaN  2017  \n",
       "79999                      Five Stars  NaN  2017  \n",
       "\n",
       "[80000 rows x 7 columns]"
      ]
     },
     "execution_count": 7,
     "metadata": {},
     "output_type": "execute_result"
    }
   ],
   "source": [
    "df"
   ]
  },
  {
   "cell_type": "code",
   "execution_count": 8,
   "id": "7e1cdffe-52af-498e-9eab-9bb6239e998d",
   "metadata": {},
   "outputs": [
    {
     "name": "stdout",
     "output_type": "stream",
     "text": [
      "<class 'pandas.core.frame.DataFrame'>\n",
      "RangeIndex: 80000 entries, 0 to 79999\n",
      "Data columns (total 7 columns):\n",
      " #   Column        Non-Null Count  Dtype \n",
      "---  ------        --------------  ----- \n",
      " 0   overall       80000 non-null  int64 \n",
      " 1   reviewerID    80000 non-null  object\n",
      " 2   reviewerName  79994 non-null  object\n",
      " 3   reviewText    79988 non-null  object\n",
      " 4   summary       79993 non-null  object\n",
      " 5   vote          18833 non-null  object\n",
      " 6   year          80000 non-null  object\n",
      "dtypes: int64(1), object(6)\n",
      "memory usage: 4.3+ MB\n"
     ]
    }
   ],
   "source": [
    "df.info()"
   ]
  },
  {
   "cell_type": "code",
   "execution_count": 9,
   "id": "b9ef0a98-f947-430f-9937-b89b644154db",
   "metadata": {},
   "outputs": [
    {
     "name": "stdout",
     "output_type": "stream",
     "text": [
      "overall             0\n",
      "reviewerID          0\n",
      "reviewerName        6\n",
      "reviewText         12\n",
      "summary             7\n",
      "vote            61167\n",
      "year                0\n",
      "dtype: int64\n",
      "AxesSubplot(0.125,0.125;0.62x0.755)\n"
     ]
    },
    {
     "data": {
      "image/png": "[encoded data removed]",
      "text/plain": [
       "<Figure size 432x288 with 2 Axes>"
      ]
     },
     "metadata": {
      "needs_background": "light"
     },
     "output_type": "display_data"
    }
   ],
   "source": [
    "# checking null values\n",
    "print(df.isnull().sum())\n",
    "print(sns.heatmap(df.isnull()))"
   ]
  },
  {
   "cell_type": "code",
   "execution_count": 10,
   "id": "fadff727-1669-4728-bbf5-293d62039e53",
   "metadata": {},
   "outputs": [],
   "source": [
    "df['vote'] = df['vote'].fillna(0)"
   ]
  },
  {
   "cell_type": "code",
   "execution_count": 11,
   "id": "f6e96e0a-2f00-4a7b-a230-07a7565b529c",
   "metadata": {},
   "outputs": [],
   "source": [
    "le=LabelEncoder()\n",
    "\n",
    "df['vote']=le.fit_transform(df['vote'].astype(str))"
   ]
  },
  {
   "cell_type": "code",
   "execution_count": 12,
   "id": "4dd94ac1-1b71-4b6e-9a6e-b80ad850aa17",
   "metadata": {},
   "outputs": [],
   "source": [
    "df['reviewerName'] = df['reviewerName'].fillna('Not Given')"
   ]
  },
  {
   "cell_type": "code",
   "execution_count": 13,
   "id": "bf04b836-4337-4417-8b66-ebd829b695f9",
   "metadata": {},
   "outputs": [],
   "source": [
    "df['summary'] = df['summary'].fillna('Not Given')"
   ]
  },
  {
   "cell_type": "code",
   "execution_count": 14,
   "id": "dcb7efb8-075e-40c9-badc-288bc005203e",
   "metadata": {},
   "outputs": [],
   "source": [
    "df['reviewText'] = df['reviewText'].fillna('Not Given')"
   ]
  },
  {
   "cell_type": "code",
   "execution_count": 15,
   "id": "fc120983-fc60-4520-991f-c51556fcce22",
   "metadata": {},
   "outputs": [
    {
     "name": "stdout",
     "output_type": "stream",
     "text": [
      "<class 'pandas.core.frame.DataFrame'>\n",
      "RangeIndex: 80000 entries, 0 to 79999\n",
      "Data columns (total 7 columns):\n",
      " #   Column        Non-Null Count  Dtype \n",
      "---  ------        --------------  ----- \n",
      " 0   overall       80000 non-null  int64 \n",
      " 1   reviewerID    80000 non-null  object\n",
      " 2   reviewerName  80000 non-null  object\n",
      " 3   reviewText    80000 non-null  object\n",
      " 4   summary       80000 non-null  object\n",
      " 5   vote          80000 non-null  int32 \n",
      " 6   year          80000 non-null  object\n",
      "dtypes: int32(1), int64(1), object(5)\n",
      "memory usage: 4.0+ MB\n"
     ]
    }
   ],
   "source": [
    "df.info()"
   ]
  },
  {
   "cell_type": "code",
   "execution_count": 16,
   "id": "c6a4118d-81c1-4738-83ae-0a0202f03225",
   "metadata": {},
   "outputs": [],
   "source": [
    "X = df.drop(columns = ['overall'])\n",
    "y = df['overall']"
   ]
  },
  {
   "cell_type": "code",
   "execution_count": 17,
   "id": "b810cc4b-f950-45a9-a4df-21b76a50897d",
   "metadata": {},
   "outputs": [
    {
     "data": {
      "text/html": [
       "<div>\n",
       "<style scoped>\n",
       "    .dataframe tbody tr th:only-of-type {\n",
       "        vertical-align: middle;\n",
       "    }\n",
       "\n",
       "    .dataframe tbody tr th {\n",
       "        vertical-align: top;\n",
       "    }\n",
       "\n",
       "    .dataframe thead th {\n",
       "        text-align: right;\n",
       "    }\n",
       "</style>\n",
       "<table border=\"1\" class=\"dataframe\">\n",
       "  <thead>\n",
       "    <tr style=\"text-align: right;\">\n",
       "      <th></th>\n",
       "      <th>reviewerID</th>\n",
       "      <th>reviewerName</th>\n",
       "      <th>reviewText</th>\n",
       "      <th>summary</th>\n",
       "      <th>vote</th>\n",
       "      <th>year</th>\n",
       "    </tr>\n",
       "  </thead>\n",
       "  <tbody>\n",
       "    <tr>\n",
       "      <th>0</th>\n",
       "      <td>A1N070NS9CJQ2I</td>\n",
       "      <td>Teri Adams</td>\n",
       "      <td>This was the first time I read Garcia-Aguilera...</td>\n",
       "      <td>Hit The Spot!</td>\n",
       "      <td>0</td>\n",
       "      <td>2017</td>\n",
       "    </tr>\n",
       "    <tr>\n",
       "      <th>1</th>\n",
       "      <td>A3P0KRKOBQK1KN</td>\n",
       "      <td>Willa C.</td>\n",
       "      <td>As with all of Ms. Garcia-Aguilera's books, I ...</td>\n",
       "      <td>one hot summer is HOT HOT HOT!</td>\n",
       "      <td>0</td>\n",
       "      <td>2017</td>\n",
       "    </tr>\n",
       "    <tr>\n",
       "      <th>2</th>\n",
       "      <td>A192HO2ICJ75VU</td>\n",
       "      <td>Kit</td>\n",
       "      <td>I've not read any of Ms Aguilera's works befor...</td>\n",
       "      <td>One Hot Summer</td>\n",
       "      <td>95</td>\n",
       "      <td>2017</td>\n",
       "    </tr>\n",
       "    <tr>\n",
       "      <th>3</th>\n",
       "      <td>A2T278FKFL3BLT</td>\n",
       "      <td>Andres</td>\n",
       "      <td>This romance novel is right up there with the ...</td>\n",
       "      <td>I love this book!</td>\n",
       "      <td>145</td>\n",
       "      <td>2017</td>\n",
       "    </tr>\n",
       "    <tr>\n",
       "      <th>4</th>\n",
       "      <td>A2ZUXVTW8RXBXW</td>\n",
       "      <td>John</td>\n",
       "      <td>Carolina Garcia Aguilera has done it again.  S...</td>\n",
       "      <td>One Hot Book</td>\n",
       "      <td>0</td>\n",
       "      <td>2017</td>\n",
       "    </tr>\n",
       "    <tr>\n",
       "      <th>...</th>\n",
       "      <td>...</td>\n",
       "      <td>...</td>\n",
       "      <td>...</td>\n",
       "      <td>...</td>\n",
       "      <td>...</td>\n",
       "      <td>...</td>\n",
       "    </tr>\n",
       "    <tr>\n",
       "      <th>79995</th>\n",
       "      <td>A2J3OA29JDC3DV</td>\n",
       "      <td>Amazon Customer</td>\n",
       "      <td>Best cb for the buck ever. Plugged This bad bo...</td>\n",
       "      <td>Best cb for the buck ever</td>\n",
       "      <td>0</td>\n",
       "      <td>2017</td>\n",
       "    </tr>\n",
       "    <tr>\n",
       "      <th>79996</th>\n",
       "      <td>A284SZ58HC8Y11</td>\n",
       "      <td>JoshH</td>\n",
       "      <td>Very easy to setup and sounds great.</td>\n",
       "      <td>Five Stars</td>\n",
       "      <td>0</td>\n",
       "      <td>2017</td>\n",
       "    </tr>\n",
       "    <tr>\n",
       "      <th>79997</th>\n",
       "      <td>A1GI2YRCYO5GSK</td>\n",
       "      <td>Fabron</td>\n",
       "      <td>Bought this for my driver in my Semi-Truck. Go...</td>\n",
       "      <td>Does the job. Nothing fancy.</td>\n",
       "      <td>0</td>\n",
       "      <td>2017</td>\n",
       "    </tr>\n",
       "    <tr>\n",
       "      <th>79998</th>\n",
       "      <td>A3UH74LZN3PK7G</td>\n",
       "      <td>Amazon Prime Member</td>\n",
       "      <td>Works fine.</td>\n",
       "      <td>Good basic CB for the money.</td>\n",
       "      <td>0</td>\n",
       "      <td>2017</td>\n",
       "    </tr>\n",
       "    <tr>\n",
       "      <th>79999</th>\n",
       "      <td>A2F1QLJ6ZTKP5W</td>\n",
       "      <td>Amazon Customer</td>\n",
       "      <td>works well.</td>\n",
       "      <td>Five Stars</td>\n",
       "      <td>0</td>\n",
       "      <td>2017</td>\n",
       "    </tr>\n",
       "  </tbody>\n",
       "</table>\n",
       "<p>80000 rows × 6 columns</p>\n",
       "</div>"
      ],
      "text/plain": [
       "           reviewerID         reviewerName  \\\n",
       "0      A1N070NS9CJQ2I           Teri Adams   \n",
       "1      A3P0KRKOBQK1KN             Willa C.   \n",
       "2      A192HO2ICJ75VU                  Kit   \n",
       "3      A2T278FKFL3BLT               Andres   \n",
       "4      A2ZUXVTW8RXBXW                 John   \n",
       "...               ...                  ...   \n",
       "79995  A2J3OA29JDC3DV      Amazon Customer   \n",
       "79996  A284SZ58HC8Y11                JoshH   \n",
       "79997  A1GI2YRCYO5GSK               Fabron   \n",
       "79998  A3UH74LZN3PK7G  Amazon Prime Member   \n",
       "79999  A2F1QLJ6ZTKP5W      Amazon Customer   \n",
       "\n",
       "                                              reviewText  \\\n",
       "0      This was the first time I read Garcia-Aguilera...   \n",
       "1      As with all of Ms. Garcia-Aguilera's books, I ...   \n",
       "2      I've not read any of Ms Aguilera's works befor...   \n",
       "3      This romance novel is right up there with the ...   \n",
       "4      Carolina Garcia Aguilera has done it again.  S...   \n",
       "...                                                  ...   \n",
       "79995  Best cb for the buck ever. Plugged This bad bo...   \n",
       "79996               Very easy to setup and sounds great.   \n",
       "79997  Bought this for my driver in my Semi-Truck. Go...   \n",
       "79998                                        Works fine.   \n",
       "79999                                        works well.   \n",
       "\n",
       "                              summary  vote  year  \n",
       "0                       Hit The Spot!     0  2017  \n",
       "1      one hot summer is HOT HOT HOT!     0  2017  \n",
       "2                      One Hot Summer    95  2017  \n",
       "3                   I love this book!   145  2017  \n",
       "4                        One Hot Book     0  2017  \n",
       "...                               ...   ...   ...  \n",
       "79995       Best cb for the buck ever     0  2017  \n",
       "79996                      Five Stars     0  2017  \n",
       "79997    Does the job. Nothing fancy.     0  2017  \n",
       "79998    Good basic CB for the money.     0  2017  \n",
       "79999                      Five Stars     0  2017  \n",
       "\n",
       "[80000 rows x 6 columns]"
      ]
     },
     "execution_count": 17,
     "metadata": {},
     "output_type": "execute_result"
    }
   ],
   "source": [
    "X"
   ]
  },
  {
   "cell_type": "code",
   "execution_count": 18,
   "id": "cf0ffff0-0bf2-4a0e-a296-3f8cb0342686",
   "metadata": {},
   "outputs": [
    {
     "data": {
      "text/plain": [
       "0        5\n",
       "1        5\n",
       "2        5\n",
       "3        4\n",
       "4        5\n",
       "        ..\n",
       "79995    5\n",
       "79996    5\n",
       "79997    4\n",
       "79998    4\n",
       "79999    5\n",
       "Name: overall, Length: 80000, dtype: int64"
      ]
     },
     "execution_count": 18,
     "metadata": {},
     "output_type": "execute_result"
    }
   ],
   "source": [
    "y"
   ]
  },
  {
   "cell_type": "code",
   "execution_count": 19,
   "id": "76beb844-ea03-40a5-ad0f-4b5d558165ed",
   "metadata": {},
   "outputs": [],
   "source": [
    "le=LabelEncoder()\n",
    "for i in X:\n",
    "    X[i]=le.fit_transform(X[i].astype(str))"
   ]
  },
  {
   "cell_type": "code",
   "execution_count": 20,
   "id": "1e3c055e-f632-4c5b-af2b-77a3c5af57c3",
   "metadata": {},
   "outputs": [],
   "source": [
    "# Treating data imbalance\n",
    "from imblearn.over_sampling import ADASYN\n",
    "from collections import Counter"
   ]
  },
  {
   "cell_type": "code",
   "execution_count": 21,
   "id": "516ba5f4-46da-4d88-bdaf-02925f4ff270",
   "metadata": {},
   "outputs": [
    {
     "name": "stdout",
     "output_type": "stream",
     "text": [
      "Counter({5: 48262, 4: 14076, 1: 8096, 3: 5704, 2: 3862})\n",
      "Counter({1: 48295, 5: 48262, 2: 46919, 3: 46853, 4: 46771})\n"
     ]
    }
   ],
   "source": [
    "counter = Counter(y)\n",
    "print(counter)\n",
    "oversample = ADASYN()\n",
    "X, y = oversample.fit_resample(X, y)\n",
    "counter = Counter(y)\n",
    "print(counter)"
   ]
  },
  {
   "cell_type": "code",
   "execution_count": 22,
   "id": "fce63103-cf50-4622-ad97-d97a0a426554",
   "metadata": {},
   "outputs": [],
   "source": [
    "from sklearn.preprocessing import StandardScaler\n",
    "scaler = StandardScaler()\n",
    "X_scaled = scaler.fit_transform(X)"
   ]
  },
  {
   "cell_type": "code",
   "execution_count": 23,
   "id": "5c82b587-c459-4d55-8a99-7d16812fdeab",
   "metadata": {},
   "outputs": [],
   "source": [
    "# Treating Skew\n",
    "power = PowerTransformer(method='yeo-johnson', standardize=True)\n",
    "data_new = power.fit_transform(X)"
   ]
  },
  {
   "cell_type": "code",
   "execution_count": 24,
   "id": "e297a5b6-5979-4df1-9c9a-c7bb201f0ad8",
   "metadata": {},
   "outputs": [
    {
     "data": {
      "text/plain": [
       "reviewerID     -0.275945\n",
       "reviewerName   -0.296565\n",
       "reviewText     -0.285616\n",
       "summary        -0.241494\n",
       "vote            0.460941\n",
       "year            0.000000\n",
       "dtype: float64"
      ]
     },
     "execution_count": 24,
     "metadata": {},
     "output_type": "execute_result"
    }
   ],
   "source": [
    "# Skew values after treatment\n",
    "data_new=pd.DataFrame(data_new,columns=X.columns)\n",
    "data_new.skew()"
   ]
  },
  {
   "cell_type": "code",
   "execution_count": 25,
   "id": "12626e78-9a77-489d-a446-6ee9be293ffc",
   "metadata": {},
   "outputs": [],
   "source": [
    "x = data_new"
   ]
  },
  {
   "cell_type": "code",
   "execution_count": 26,
   "id": "c3183311-dd30-4461-8afc-55d5e5d3e217",
   "metadata": {},
   "outputs": [
    {
     "data": {
      "image/png": "[encoded data removed]",
      "text/plain": [
       "<Figure size 1440x1440 with 6 Axes>"
      ]
     },
     "metadata": {},
     "output_type": "display_data"
    }
   ],
   "source": [
    "# Distibution after fixing skew and outliers\n",
    "plt.figure(figsize=(20,20),facecolor='white')\n",
    "plotnumber=1\n",
    "for i in data_new:\n",
    "    if plotnumber<=35:\n",
    "        ax=plt.subplot(7,5,plotnumber)\n",
    "        sns.distplot(data_new[i])\n",
    "        plt.xlabel(i)\n",
    "    plotnumber+=1"
   ]
  },
  {
   "cell_type": "markdown",
   "id": "6d99319e-f4ba-434e-abf6-cbd4c4d2d817",
   "metadata": {},
   "source": [
    "## Model"
   ]
  },
  {
   "cell_type": "code",
   "execution_count": 27,
   "id": "41320da1-699e-4db3-913b-38ce79f65088",
   "metadata": {},
   "outputs": [],
   "source": [
    "X_train,X_test,y_train,y_test=train_test_split(x,y,test_size=0.25)"
   ]
  },
  {
   "cell_type": "code",
   "execution_count": 28,
   "id": "8793fa88-7eba-4240-862b-d2b5b0354d6b",
   "metadata": {},
   "outputs": [],
   "source": [
    "from sklearn.tree import DecisionTreeRegressor\n",
    "from sklearn.neighbors import KNeighborsRegressor\n",
    "from sklearn.ensemble import RandomForestRegressor,AdaBoostRegressor,GradientBoostingRegressor\n",
    "from sklearn.linear_model import ElasticNet\n",
    "from sklearn.metrics import mean_absolute_error,mean_squared_error,r2_score\n",
    "from sklearn.model_selection import train_test_split\n",
    "from sklearn.svm import SVR\n",
    "from lightgbm import LGBMRegressor\n",
    "from xgboost import XGBRegressor\n",
    "from sklearn.metrics import SCORERS\n",
    "from sklearn.model_selection import GridSearchCV\n",
    "from sklearn.model_selection import cross_val_score,cross_validate"
   ]
  },
  {
   "cell_type": "code",
   "execution_count": 29,
   "id": "0f74e30e-bc3f-4c8b-9f59-f4bc71bfc5f6",
   "metadata": {},
   "outputs": [
    {
     "name": "stdout",
     "output_type": "stream",
     "text": [
      "| ID | GPU | MEM |\n",
      "------------------\n",
      "|  0 |  9% |  7% |\n"
     ]
    }
   ],
   "source": [
    "# GPU stat \n",
    "import GPUtil\n",
    "GPUtil.showUtilization()"
   ]
  },
  {
   "cell_type": "code",
   "execution_count": 30,
   "id": "a5fe501e-4557-4eb9-951c-a0b91dc52d19",
   "metadata": {},
   "outputs": [
    {
     "data": {
      "text/plain": [
       "dict_keys(['explained_variance', 'r2', 'max_error', 'neg_median_absolute_error', 'neg_mean_absolute_error', 'neg_mean_absolute_percentage_error', 'neg_mean_squared_error', 'neg_mean_squared_log_error', 'neg_root_mean_squared_error', 'neg_mean_poisson_deviance', 'neg_mean_gamma_deviance', 'accuracy', 'top_k_accuracy', 'roc_auc', 'roc_auc_ovr', 'roc_auc_ovo', 'roc_auc_ovr_weighted', 'roc_auc_ovo_weighted', 'balanced_accuracy', 'average_precision', 'neg_log_loss', 'neg_brier_score', 'adjusted_rand_score', 'rand_score', 'homogeneity_score', 'completeness_score', 'v_measure_score', 'mutual_info_score', 'adjusted_mutual_info_score', 'normalized_mutual_info_score', 'fowlkes_mallows_score', 'precision', 'precision_macro', 'precision_micro', 'precision_samples', 'precision_weighted', 'recall', 'recall_macro', 'recall_micro', 'recall_samples', 'recall_weighted', 'f1', 'f1_macro', 'f1_micro', 'f1_samples', 'f1_weighted', 'jaccard', 'jaccard_macro', 'jaccard_micro', 'jaccard_samples', 'jaccard_weighted'])"
      ]
     },
     "execution_count": 30,
     "metadata": {},
     "output_type": "execute_result"
    }
   ],
   "source": [
    "# List of models to be used\n",
    "en = ElasticNet()\n",
    "dtr = DecisionTreeRegressor(random_state=1)\n",
    "rfr = RandomForestRegressor(random_state=1)\n",
    "ar = AdaBoostRegressor(random_state=1)\n",
    "gbr= GradientBoostingRegressor(random_state=1)\n",
    "\n",
    "m_list= [en,dtr,rfr,ar,gbr]\n",
    "\n",
    "s=SCORERS\n",
    "s.keys()"
   ]
  },
  {
   "cell_type": "code",
   "execution_count": 31,
   "id": "7695e161-48ca-469b-aa56-20ccbbdd2a5a",
   "metadata": {},
   "outputs": [
    {
     "name": "stdout",
     "output_type": "stream",
     "text": [
      "ElasticNet()\n",
      "Root_mean_squared_error:  1.423475950242273\n",
      "cross validation scores below:--  \n",
      " ElasticNet()\n",
      "root_mean_squared_error:  -1.4703948586318223\n",
      "difference between model score and cross validation score:  0.046918908389549374\n",
      "\n",
      "\n",
      "\n",
      "\n",
      "DecisionTreeRegressor(random_state=1)\n",
      "Root_mean_squared_error:  1.3966157807252852\n",
      "cross validation scores below:--  \n",
      " DecisionTreeRegressor(random_state=1)\n",
      "root_mean_squared_error:  -1.6008972619096773\n",
      "difference between model score and cross validation score:  0.20428148118439204\n",
      "\n",
      "\n",
      "\n",
      "\n",
      "RandomForestRegressor(random_state=1)\n",
      "Root_mean_squared_error:  1.003146838460487\n",
      "cross validation scores below:--  \n",
      " RandomForestRegressor(random_state=1)\n",
      "root_mean_squared_error:  -1.2063284490664286\n",
      "difference between model score and cross validation score:  0.20318161060594164\n",
      "\n",
      "\n",
      "\n",
      "\n",
      "AdaBoostRegressor(random_state=1)\n",
      "Root_mean_squared_error:  1.2879768633405124\n",
      "cross validation scores below:--  \n",
      " AdaBoostRegressor(random_state=1)\n",
      "root_mean_squared_error:  -1.353306274795712\n",
      "difference between model score and cross validation score:  0.06532941145519966\n",
      "\n",
      "\n",
      "\n",
      "\n",
      "GradientBoostingRegressor(random_state=1)\n",
      "Root_mean_squared_error:  1.1956842380090345\n",
      "cross validation scores below:--  \n",
      " GradientBoostingRegressor(random_state=1)\n",
      "root_mean_squared_error:  -1.3118454539336006\n",
      "difference between model score and cross validation score:  0.11616121592456619\n",
      "\n",
      "\n",
      "\n",
      "\n"
     ]
    }
   ],
   "source": [
    "# Fitting models\n",
    "for m in m_list:\n",
    "    m.fit(X_train,y_train)\n",
    "    preds = m.predict(X_test)\n",
    "    rmse= np.sqrt(mean_squared_error(y_test,preds))\n",
    "    print(m)\n",
    "    print('Root_mean_squared_error: ',rmse)\n",
    "    print('cross validation scores below:--  \\n',m)\n",
    "    print('root_mean_squared_error: ',cross_val_score(m,X,y,cv=5,scoring='neg_root_mean_squared_error').mean())\n",
    "    print('difference between model score and cross validation score: ',-rmse-cross_val_score(m,X,y,cv=5,scoring='neg_root_mean_squared_error').mean())\n",
    "    print('\\n')\n",
    "    print('\\n')"
   ]
  },
  {
   "cell_type": "markdown",
   "id": "05188266-d195-4f35-8b1e-efce4a9f8715",
   "metadata": {},
   "source": [
    "## Hyper Parameter Tuning (HPT)"
   ]
  },
  {
   "cell_type": "code",
   "execution_count": 59,
   "id": "e2853f62-3eb2-4aa4-9c1b-8470ed2fca8b",
   "metadata": {},
   "outputs": [],
   "source": [
    "# Parameter Grid\n",
    "grid_param = {\"max_iter\":range(1,10),\n",
    "              \"alpha\": np.arange(0.0001,50,0.7),\n",
    "              \"l1_ratio\": np.arange(0.0, 1.1, 0.1)}"
   ]
  },
  {
   "cell_type": "code",
   "execution_count": 60,
   "id": "ccd3b907-a89f-4404-a6a2-e9b4541f45f5",
   "metadata": {},
   "outputs": [
    {
     "name": "stdout",
     "output_type": "stream",
     "text": [
      "Fitting 5 folds for each of 7128 candidates, totalling 35640 fits\n"
     ]
    },
    {
     "data": {
      "text/plain": [
       "GridSearchCV(cv=5, estimator=ElasticNet(), n_jobs=15,\n",
       "             param_grid={'alpha': array([1.00000e-04, 7.00100e-01, 1.40010e+00, 2.10010e+00, 2.80010e+00,\n",
       "       3.50010e+00, 4.20010e+00, 4.90010e+00, 5.60010e+00, 6.30010e+00,\n",
       "       7.00010e+00, 7.70010e+00, 8.40010e+00, 9.10010e+00, 9.80010e+00,\n",
       "       1.05001e+01, 1.12001e+01, 1.19001e+01, 1.26001e+01, 1.33001e+01,\n",
       "       1.40001e+01, 1.47001e+01, 1.54001e...\n",
       "       3.50001e+01, 3.57001e+01, 3.64001e+01, 3.71001e+01, 3.78001e+01,\n",
       "       3.85001e+01, 3.92001e+01, 3.99001e+01, 4.06001e+01, 4.13001e+01,\n",
       "       4.20001e+01, 4.27001e+01, 4.34001e+01, 4.41001e+01, 4.48001e+01,\n",
       "       4.55001e+01, 4.62001e+01, 4.69001e+01, 4.76001e+01, 4.83001e+01,\n",
       "       4.90001e+01, 4.97001e+01]),\n",
       "                         'l1_ratio': array([0. , 0.1, 0.2, 0.3, 0.4, 0.5, 0.6, 0.7, 0.8, 0.9, 1. ]),\n",
       "                         'max_iter': range(1, 10)},\n",
       "             scoring='neg_root_mean_squared_error', verbose=2)"
      ]
     },
     "execution_count": 60,
     "metadata": {},
     "output_type": "execute_result"
    }
   ],
   "source": [
    "# Conducting Grid Sesarch\n",
    "grid_search=GridSearchCV(ElasticNet(),param_grid=grid_param,cv=5,n_jobs=15,verbose = 2,scoring='neg_root_mean_squared_error')\n",
    "grid_search.fit(X_train,y_train)"
   ]
  },
  {
   "cell_type": "code",
   "execution_count": 61,
   "id": "3e168864-0834-4b12-9675-3a0c4695c45a",
   "metadata": {},
   "outputs": [
    {
     "data": {
      "text/plain": [
       "{'alpha': 0.0001, 'l1_ratio': 0.0, 'max_iter': 5}"
      ]
     },
     "execution_count": 61,
     "metadata": {},
     "output_type": "execute_result"
    }
   ],
   "source": [
    "grid_search.best_params_"
   ]
  },
  {
   "cell_type": "code",
   "execution_count": 62,
   "id": "ef57db86-3070-4681-b937-ab7e9f50d96c",
   "metadata": {},
   "outputs": [
    {
     "name": "stdout",
     "output_type": "stream",
     "text": [
      "ElasticNet(alpha=0.0001, l1_ratio=0.0, max_iter=5)\n",
      "Root_mean_squared_error:  1.3720071856310416\n",
      "cross validation scores below:--  \n",
      " ElasticNet(alpha=0.0001, l1_ratio=0.0, max_iter=5)\n",
      "root_mean_squared_error:  -1.470333531004845\n",
      "difference between model score and cross validation score:  0.09832634537380347\n",
      "\n",
      "\n",
      "\n",
      "\n"
     ]
    }
   ],
   "source": [
    "ar = ElasticNet(alpha= 0.0001, l1_ratio = 0.0, max_iter= 5 )\n",
    "ar.fit(X_train,y_train)\n",
    "preds = ar.predict(X_test)\n",
    "rmse= np.sqrt(mean_squared_error(y_test,preds))\n",
    "print(ar)\n",
    "print('Root_mean_squared_error: ',rmse)\n",
    "print('cross validation scores below:--  \\n',ar)\n",
    "print('root_mean_squared_error: ',cross_val_score(ar,X,y,cv=5,scoring='neg_root_mean_squared_error').mean())\n",
    "print('difference between model score and cross validation score: ',-rmse-cross_val_score(ar,X,y,cv=5,scoring='neg_root_mean_squared_error').mean())\n",
    "print('\\n')\n",
    "print('\\n')"
   ]
  },
  {
   "cell_type": "markdown",
   "id": "8853b30c-1ddd-4f1c-ac7a-de181f94e056",
   "metadata": {},
   "source": [
    "## Saving Best Model"
   ]
  },
  {
   "cell_type": "code",
   "execution_count": 63,
   "id": "55f0eb06-f302-48f3-9a1f-e3033ce27dfb",
   "metadata": {},
   "outputs": [
    {
     "data": {
      "text/plain": [
       "['EN_best.obj']"
      ]
     },
     "execution_count": 63,
     "metadata": {},
     "output_type": "execute_result"
    }
   ],
   "source": [
    "import joblib\n",
    "\n",
    "joblib.dump(en,'EN_best.obj')"
   ]
  },
  {
   "cell_type": "code",
   "execution_count": 64,
   "id": "aef45ac4-631d-4dee-9499-8dedf0798771",
   "metadata": {},
   "outputs": [
    {
     "data": {
      "text/plain": [
       "ElasticNet()"
      ]
     },
     "execution_count": 64,
     "metadata": {},
     "output_type": "execute_result"
    }
   ],
   "source": [
    "joblib.load('EN_best.obj')"
   ]
  },
  {
   "cell_type": "code",
   "execution_count": null,
   "id": "db3cc5ac-329e-4c55-ab63-506e87aface0",
   "metadata": {},
   "outputs": [],
   "source": []
  }
 ],
 "metadata": {
  "kernelspec": {
   "display_name": "Python 3 (ipykernel)",
   "language": "python",
   "name": "python3"
  },
  "language_info": {
   "codemirror_mode": {
    "name": "ipython",
    "version": 3
   },
   "file_extension": ".py",
   "mimetype": "text/x-python",
   "name": "python",
   "nbconvert_exporter": "python",
   "pygments_lexer": "ipython3",
   "version": "3.8.11"
  }
 },
 "nbformat": 4,
 "nbformat_minor": 5
}
